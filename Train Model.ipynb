{
  "nbformat": 4,
  "nbformat_minor": 0,
  "metadata": {
    "colab": {
      "provenance": [],
      "gpuType": "T4"
    },
    "kernelspec": {
      "name": "python3",
      "display_name": "Python 3"
    },
    "language_info": {
      "name": "python"
    },
    "accelerator": "GPU"
  },
  "cells": [
    {
      "cell_type": "code",
      "source": [
        "from IPython.display import clear_output"
      ],
      "metadata": {
        "id": "BGViTyqtLSmi"
      },
      "execution_count": null,
      "outputs": []
    },
    {
      "cell_type": "code",
      "source": [
        "!pip install ultralytics\n",
        "clear_output()\n",
        "print(\"[INFO] Ultraltics YOLOv8 downloaded!\")"
      ],
      "metadata": {
        "colab": {
          "base_uri": "https://localhost:8080/"
        },
        "id": "p51OZ6YcLcqI",
        "outputId": "2ae5bf44-4ec9-4351-8c62-104bbbdaab7a"
      },
      "execution_count": null,
      "outputs": [
        {
          "output_type": "stream",
          "name": "stdout",
          "text": [
            "[INFO] Ultraltics YOLOv8 download!\n"
          ]
        }
      ]
    },
    {
      "cell_type": "code",
      "source": [
        "import os\n",
        "HOME = os.getcwd()\n",
        "print(HOME)"
      ],
      "metadata": {
        "colab": {
          "base_uri": "https://localhost:8080/"
        },
        "id": "iA7vSXlrMYGt",
        "outputId": "66ce815d-add1-4a17-a619-9c67820b5b23"
      },
      "execution_count": null,
      "outputs": [
        {
          "output_type": "stream",
          "name": "stdout",
          "text": [
            "/content/drive/MyDrive/AI Engineer/Computer Vision/Yolov8/Object Detection\n"
          ]
        }
      ]
    },
    {
      "cell_type": "code",
      "execution_count": null,
      "metadata": {
        "colab": {
          "base_uri": "https://localhost:8080/"
        },
        "id": "R7wopJhOK3JH",
        "outputId": "69dd6121-65a0-4c7b-cc69-4b893617c3e5"
      },
      "outputs": [
        {
          "output_type": "stream",
          "name": "stdout",
          "text": [
            "[INFO] Extracting data done!\n"
          ]
        }
      ],
      "source": [
        "%cd {HOME}\n",
        "!unzip \"datasets.zip\"\n",
        "clear_output()\n",
        "print(\"[INFO] Extracting data...\")\n",
        "print(\"[INFO] Done!\")"
      ]
    },
    {
      "cell_type": "code",
      "source": [
        "%cd {HOME}\n",
        "config_file = \"config.yaml\"\n",
        "if os.path.exists(config_file):\n",
        "    os.remove(config_file)"
      ],
      "metadata": {
        "colab": {
          "base_uri": "https://localhost:8080/"
        },
        "id": "lKh1dx0uON7f",
        "outputId": "46b3d776-35e5-4ec5-e1a7-fbcc630b2d11"
      },
      "execution_count": null,
      "outputs": [
        {
          "output_type": "stream",
          "name": "stdout",
          "text": [
            "/content/drive/MyDrive/AI Engineer/Computer Vision/Yolov8/Object Detection\n"
          ]
        }
      ]
    },
    {
      "cell_type": "code",
      "source": [
        "%cd {HOME}\n",
        "!echo \"path: path_to_datasets_folder\" >> config.yaml\n",
        "!echo \"train: train\" >> config.yaml\n",
        "!echo \"val: validation\" >> config.yaml\n",
        "!echo \"test: test\" >> config.yaml\n",
        "!echo \"\" >> config.yaml\n",
        "!echo \"nc: num_class  # number of classes\" >> config.yaml\n",
        "!echo \"names: ['class_name'] # class names\" >> config.yaml"
      ],
      "metadata": {
        "colab": {
          "base_uri": "https://localhost:8080/"
        },
        "id": "h-8AwRJ3O-e4",
        "outputId": "62415576-5eb4-4f51-d7e8-83be88d97891"
      },
      "execution_count": null,
      "outputs": [
        {
          "output_type": "stream",
          "name": "stdout",
          "text": [
            "/content/drive/MyDrive/AI Engineer/Computer Vision/Yolov8/Object Detection\n"
          ]
        }
      ]
    },
    {
      "cell_type": "code",
      "source": [
        "from ultralytics import YOLO\n",
        "\n",
        "%cd {HOME}\n",
        "\n",
        "# Load a model\n",
        "model = YOLO('yolov8n.pt')  # load a pretrained model (recommended for training)\n",
        "\n",
        "# Train the model\n",
        "results = model.train(data='config.yaml', epochs=10, patience=3, batch=64)"
      ],
      "metadata": {
        "id": "tXwauuzlRYSk"
      },
      "execution_count": null,
      "outputs": []
    },
    {
      "cell_type": "code",
      "source": [],
      "metadata": {
        "id": "2qt6EUwxUgdu"
      },
      "execution_count": null,
      "outputs": []
    }
  ]
}